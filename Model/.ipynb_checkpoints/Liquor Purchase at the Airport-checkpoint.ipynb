{
 "cells": [
  {
   "cell_type": "code",
   "execution_count": 3,
   "metadata": {},
   "outputs": [
    {
     "data": {
      "text/plain": [
       "'\\nBrand A : $100 (Foreign)\\nBrand B : $ 80 (Local)\\n\\nProfit by selling 1 bottle of Brand A : $8\\nProfit by selling 1 bottle of Brand B : $13\\nObjective function : max profit\\n\\nConstrains 1:\\nSize of the Brand A bottle : 0.4 L \\nSize of the Brand B bottle : 0.5 L \\nMaximum of 5L of alcohol allowed\\n\\nx1 >= 0\\nx2 >= 0\\n\\n\\nFormulation : \\nLet the decision variables be\\nBrand A = x1\\nBrand B = x2\\n\\nObjective function : Maximization problem\\n8*x1 + 13*x2 (Max)\\n\\nS.T 0.4*x1 + 0.5*x2 <= 5 ## 5 maximum allowed liquor\\n'"
      ]
     },
     "execution_count": 3,
     "metadata": {},
     "output_type": "execute_result"
    }
   ],
   "source": [
    "# Liquor\n",
    "'''\n",
    "Brand A : $100 (Foreign)\n",
    "Brand B : $ 80 (Local)\n",
    "\n",
    "Profit by selling 1 bottle of Brand A : $13\n",
    "Profit by selling 1 bottle of Brand B : $8\n",
    "Objective function : max profit\n",
    "\n",
    "Constrains 1:\n",
    "Size of the Brand A bottle : 0.4 L \n",
    "Size of the Brand B bottle : 0.5 L \n",
    "Maximum of 5L of alcohol allowed\n",
    "\n",
    "x1 >= 0\n",
    "x2 >= 0\n",
    "\n",
    "\n",
    "Formulation : \n",
    "Let the decision variables be\n",
    "Brand A = x1\n",
    "Brand B = x2\n",
    "\n",
    "Objective function : Maximization problem\n",
    "8*x1 + 13*x2 (Max)\n",
    "\n",
    "S.T 0.4*x1 + 0.5*x2 <= 5 ## 5 maximum allowed liquor\n",
    "'''"
   ]
  },
  {
   "cell_type": "code",
   "execution_count": 4,
   "metadata": {},
   "outputs": [],
   "source": [
    "from pulp import *"
   ]
  },
  {
   "cell_type": "code",
   "execution_count": 18,
   "metadata": {},
   "outputs": [
    {
     "data": {
      "text/plain": [
       "Liquor_Purchase:\n",
       "MAXIMIZE\n",
       "11*x1 + 10*x2 + 0\n",
       "SUBJECT TO\n",
       "_C1: 0.4 x1 + 0.5 x2 <= 5\n",
       "\n",
       "VARIABLES\n",
       "0 <= x1 Integer\n",
       "0 <= x2 Integer"
      ]
     },
     "execution_count": 18,
     "metadata": {},
     "output_type": "execute_result"
    }
   ],
   "source": [
    "prob = LpProblem('Liquor Purchase', LpMaximize)\n",
    "x1 = LpVariable(\"x1\", lowBound= 0, cat = 'Integer')\n",
    "x2 = LpVariable(\"x2\", lowBound= 0, cat = 'Integer')\n",
    "\n",
    "prob += 11*x1 + 10*x2\n",
    "prob += 0.4*x1 + 0.5*x2 <= 5\n",
    "prob"
   ]
  },
  {
   "cell_type": "code",
   "execution_count": 19,
   "metadata": {},
   "outputs": [
    {
     "data": {
      "text/plain": [
       "'Optimal'"
      ]
     },
     "execution_count": 19,
     "metadata": {},
     "output_type": "execute_result"
    }
   ],
   "source": [
    "status = prob.solve()\n",
    "LpStatus[status]"
   ]
  },
  {
   "cell_type": "code",
   "execution_count": 20,
   "metadata": {},
   "outputs": [
    {
     "name": "stdout",
     "output_type": "stream",
     "text": [
      "12.0 0.0 132.0\n"
     ]
    }
   ],
   "source": [
    "print(value(x1), value(x2), value(prob.objective))"
   ]
  },
  {
   "cell_type": "code",
   "execution_count": null,
   "metadata": {},
   "outputs": [],
   "source": []
  }
 ],
 "metadata": {
  "kernelspec": {
   "display_name": "Python 3",
   "language": "python",
   "name": "python3"
  },
  "language_info": {
   "codemirror_mode": {
    "name": "ipython",
    "version": 3
   },
   "file_extension": ".py",
   "mimetype": "text/x-python",
   "name": "python",
   "nbconvert_exporter": "python",
   "pygments_lexer": "ipython3",
   "version": "3.7.6"
  }
 },
 "nbformat": 4,
 "nbformat_minor": 4
}
