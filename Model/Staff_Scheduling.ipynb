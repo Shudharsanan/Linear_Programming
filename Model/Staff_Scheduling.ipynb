{
 "cells": [
  {
   "cell_type": "code",
   "execution_count": 1,
   "metadata": {},
   "outputs": [
    {
     "data": {
      "text/plain": [
       "'\\n## Minimum employees required : \\nDay Employee Required\\nMon  10\\nTue  12\\nWed  20\\nThur  17\\nFri  15\\nSat  12\\nSun  5\\n\\nEach employee must work 5 consecutive days\\nFormulate the LP problem to minimize the number of employees hired\\n'"
      ]
     },
     "execution_count": 1,
     "metadata": {},
     "output_type": "execute_result"
    }
   ],
   "source": [
    "'''\n",
    "Refer - https://www.youtube.com/watch?v=3I8B21M-ob8&list=PLgA4wLGrqI-ll9OSJmR5nU4lV4_aNTgKx&index=10\n",
    "\n",
    "## Minimum employees required : \n",
    "Day Employee Required\n",
    "Mon  10\n",
    "Tue  12\n",
    "Wed  20\n",
    "Thur  17\n",
    "Fri  15\n",
    "Sat  12\n",
    "Sun  5\n",
    "\n",
    "Each employee must work 5 consecutive days\n",
    "Formulate the LP problem to minimize the number of employees hired\n",
    "'''\n",
    "\n",
    "'''\n",
    "Let xi be the number of employees working on day i. This is wrong because the employees work consecutive days and will be double counted\n",
    "So the decision variable needs to be changed.\n",
    "So, let xi be the number of employees beginning to work on day i\n",
    "'''"
   ]
  },
  {
   "cell_type": "code",
   "execution_count": 2,
   "metadata": {},
   "outputs": [],
   "source": [
    "from pulp import *"
   ]
  },
  {
   "cell_type": "code",
   "execution_count": 3,
   "metadata": {},
   "outputs": [
    {
     "name": "stderr",
     "output_type": "stream",
     "text": [
      "/usr/local/lib/python3.7/site-packages/pulp/pulp.py:1137: UserWarning: Spaces are not permitted in the name. Converted to '_'\n",
      "  warnings.warn(\"Spaces are not permitted in the name. Converted to '_'\")\n"
     ]
    },
    {
     "data": {
      "text/plain": [
       "Nirmal_Chairs_Ltd:\n",
       "MINIMIZE\n",
       "1*x1 + 1*x2 + 1*x3 + 1*x4 + 1*x5 + 1*x6 + 1*x7 + 0\n",
       "SUBJECT TO\n",
       "_C1: x1 + x4 + x5 + x6 + x7 >= 10\n",
       "\n",
       "_C2: x1 + x2 + x5 + x6 + x7 >= 12\n",
       "\n",
       "_C3: x1 + x2 + x3 + x6 + x7 >= 20\n",
       "\n",
       "_C4: x1 + x2 + x3 + x4 + x7 >= 17\n",
       "\n",
       "_C5: x1 + x2 + x3 + x4 + x5 >= 15\n",
       "\n",
       "_C6: x2 + x3 + x4 + x5 + x6 >= 12\n",
       "\n",
       "_C7: x3 + x4 + x5 + x6 + x7 >= 5\n",
       "\n",
       "VARIABLES\n",
       "x1 Continuous\n",
       "x2 Continuous\n",
       "x3 Continuous\n",
       "x4 Continuous\n",
       "x5 Continuous\n",
       "x6 Continuous\n",
       "x7 Continuous"
      ]
     },
     "execution_count": 3,
     "metadata": {},
     "output_type": "execute_result"
    }
   ],
   "source": [
    "prob = LpProblem(\"Nirmal Chairs Ltd\", LpMinimize) ## Create a LP Minimization Problem\n",
    "x1 = LpVariable(\"x1\", lowBound = 0) ## Create variable x1 >= 0\n",
    "x2 = LpVariable(\"x2\", lowBound = 0) ## Create Variable x2 >= 0\n",
    "x3 = LpVariable(\"x3\", lowBound = 0) ## Create Variable x3 >= 0\n",
    "x4 = LpVariable(\"x4\", lowBound = 0) ## Create Variable x4 >= 0\n",
    "x5 = LpVariable(\"x5\", lowBound = 0) ## Create Variable x5 >= 0\n",
    "x6 = LpVariable(\"x6\", lowBound = 0) ## Create Variable x6 >= 0\n",
    "x7 = LpVariable(\"x7\", lowBound = 0) ## Create Variable x7 >= 0\n",
    "\n",
    "prob += x1 + x2 + x3 + x4 + x5 + x6 + x7 ## Objective function\n",
    "prob += x1 + x4 + x5 + x6 + x7 >= 10\n",
    "prob += x1 + x2 + x5 + x6 + x7 >= 12\n",
    "prob += x1 + x2 + x3 + x6 + x7 >= 20\n",
    "prob += x1 + x2 + x3 + x4 + x7 >= 17\n",
    "prob += x1 + x2 + x3 + x4 + x5 >= 15\n",
    "prob += x2 + x3 + x4 + x5 + x6 >= 12\n",
    "prob += x3 + x4 + x5 + x6 + x7 >= 5\n",
    "prob # Display the problem"
   ]
  },
  {
   "cell_type": "code",
   "execution_count": 4,
   "metadata": {},
   "outputs": [
    {
     "data": {
      "text/plain": [
       "'Optimal'"
      ]
     },
     "execution_count": 4,
     "metadata": {},
     "output_type": "execute_result"
    }
   ],
   "source": [
    "status = prob.solve()\n",
    "LpStatus[status]"
   ]
  },
  {
   "cell_type": "code",
   "execution_count": 5,
   "metadata": {},
   "outputs": [
    {
     "name": "stdout",
     "output_type": "stream",
     "text": [
      "5.0 10.0 0.0 0.0 0.0 2.0 3.0 20.0\n"
     ]
    }
   ],
   "source": [
    "print(value(x1), value(x2), value(x3), value(x4), value(x5), value(x6), value(x7), value(prob.objective))"
   ]
  },
  {
   "cell_type": "code",
   "execution_count": null,
   "metadata": {},
   "outputs": [],
   "source": []
  }
 ],
 "metadata": {
  "kernelspec": {
   "display_name": "Python 3",
   "language": "python",
   "name": "python3"
  },
  "language_info": {
   "codemirror_mode": {
    "name": "ipython",
    "version": 3
   },
   "file_extension": ".py",
   "mimetype": "text/x-python",
   "name": "python",
   "nbconvert_exporter": "python",
   "pygments_lexer": "ipython3",
   "version": "3.7.6"
  }
 },
 "nbformat": 4,
 "nbformat_minor": 4
}
