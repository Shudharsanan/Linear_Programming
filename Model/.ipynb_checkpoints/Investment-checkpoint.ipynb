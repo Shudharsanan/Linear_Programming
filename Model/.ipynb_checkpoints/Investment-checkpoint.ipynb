{
 "cells": [
  {
   "cell_type": "markdown",
   "metadata": {},
   "source": [
    "# CONTINUOUS LINEAR PROGRAMMING"
   ]
  },
  {
   "cell_type": "code",
   "execution_count": 1,
   "metadata": {},
   "outputs": [],
   "source": [
    "from pulp import *"
   ]
  },
  {
   "cell_type": "code",
   "execution_count": 2,
   "metadata": {},
   "outputs": [
    {
     "name": "stdout",
     "output_type": "stream",
     "text": [
      "Avg Growth rate of Gold in last 5 years :  9.23\n",
      "Avg Growth rate of Platinum in last 5 years :  2.4980000000000007\n"
     ]
    }
   ],
   "source": [
    "print('Avg Growth rate of Gold in last 5 years : ', (7.27+18.83-1.15+12.57+8.63)/5.0) #https://www.macrotrends.net/1333/historical-gold-prices-100-year-chart\n",
    "print('Avg Growth rate of Platinum in last 5 years : ', (-0.04+22.12-14.70+3.81+1.30)/5.0)"
   ]
  },
  {
   "cell_type": "code",
   "execution_count": 3,
   "metadata": {},
   "outputs": [
    {
     "data": {
      "text/plain": [
       "Investment:\n",
       "MAXIMIZE\n",
       "9.23*x1 + 2.49*x2 + 0.0\n",
       "SUBJECT TO\n",
       "_C1: 168 x1 + 137 x2 <= 2000\n",
       "\n",
       "VARIABLES\n",
       "x1 Continuous\n",
       "x2 Continuous"
      ]
     },
     "execution_count": 3,
     "metadata": {},
     "output_type": "execute_result"
    }
   ],
   "source": [
    "prob = LpProblem(\"Investment\", LpMaximize) ## Create a LP Maximization Problem\n",
    "x1 = LpVariable(\"x1\", lowBound = 0) ## Create variable x1 >= 0\n",
    "x2 = LpVariable(\"x2\", lowBound = 0) ## Create Variable x2 >= 0\n",
    "\n",
    "prob += 9.23*x1 + 2.49*x2 ## Objective function (increase the value of investment in 5 years)\n",
    "prob += 168*x1 + 137*x2 <= 2000 ## Constraint 1 : Finishing hours less than 100\n",
    "\n",
    "#prob += 2*x1 + 1*x2 <= 100 ## Constraint 2 : Carpentry hours less than 100\n",
    "prob # Display the problem"
   ]
  },
  {
   "cell_type": "code",
   "execution_count": 4,
   "metadata": {},
   "outputs": [
    {
     "data": {
      "text/plain": [
       "'Optimal'"
      ]
     },
     "execution_count": 4,
     "metadata": {},
     "output_type": "execute_result"
    }
   ],
   "source": [
    "status = prob.solve()\n",
    "LpStatus[status]"
   ]
  },
  {
   "cell_type": "code",
   "execution_count": 5,
   "metadata": {},
   "outputs": [
    {
     "name": "stdout",
     "output_type": "stream",
     "text": [
      "11.904762 0.0 109.88095326\n",
      "Value of Gold in 5 years assuming with the same growth :  109.88095326\n",
      "Value of Platinum in 5 years assuming with the same growth :  0.0\n",
      "Total Investment value :  109.88095326\n"
     ]
    }
   ],
   "source": [
    "print(value(x1), value(x2), value(prob.objective))\n",
    "print('Value of Gold in 5 years assuming with the same growth : ', value(x1)*9.23)\n",
    "print('Value of Platinum in 5 years assuming with the same growth : ', value(x2)*2.49)\n",
    "print('Total Investment value : ', (value(x1)*9.23) + (value(x2)*2.49))"
   ]
  },
  {
   "cell_type": "code",
   "execution_count": null,
   "metadata": {},
   "outputs": [],
   "source": [
    "## Since the result is float and cant make 33.3 chairs and 33.3 tables."
   ]
  },
  {
   "cell_type": "markdown",
   "metadata": {},
   "source": [
    "# INTEGER LINEAR PROGRAMMING"
   ]
  },
  {
   "cell_type": "code",
   "execution_count": null,
   "metadata": {},
   "outputs": [],
   "source": [
    "prob = LpProblem(\"Nirmal Chairs Ltd\", LpMaximize)\n",
    "x1 = LpVariable(\"x1\", lowBound = 0, cat = 'Integer') ##cat = 'Integer' will give the integer output\n",
    "x2 = LpVariable(\"x2\", lowBound = 0, cat = 'Integer')\n",
    "\n",
    "prob += 20*x1 + 30*x2\n",
    "prob += 1*x1 + 2*x2 <= 100\n",
    "prob += 2*x1 + 1*x2 <= 100\n",
    "prob"
   ]
  },
  {
   "cell_type": "code",
   "execution_count": null,
   "metadata": {},
   "outputs": [],
   "source": [
    "status = prob.solve()\n",
    "LpStatus[status]"
   ]
  },
  {
   "cell_type": "code",
   "execution_count": null,
   "metadata": {},
   "outputs": [],
   "source": [
    "print(value(x1), value(x2), value(prob.objective))"
   ]
  },
  {
   "cell_type": "code",
   "execution_count": null,
   "metadata": {},
   "outputs": [],
   "source": []
  }
 ],
 "metadata": {
  "kernelspec": {
   "display_name": "Python 3",
   "language": "python",
   "name": "python3"
  },
  "language_info": {
   "codemirror_mode": {
    "name": "ipython",
    "version": 3
   },
   "file_extension": ".py",
   "mimetype": "text/x-python",
   "name": "python",
   "nbconvert_exporter": "python",
   "pygments_lexer": "ipython3",
   "version": "3.7.6"
  }
 },
 "nbformat": 4,
 "nbformat_minor": 4
}
