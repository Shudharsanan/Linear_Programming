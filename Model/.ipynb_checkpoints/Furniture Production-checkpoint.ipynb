{
 "cells": [
  {
   "cell_type": "markdown",
   "metadata": {},
   "source": [
    "# CONTINUOUS LINEAR PROGRAMMING"
   ]
  },
  {
   "cell_type": "code",
   "execution_count": 1,
   "metadata": {},
   "outputs": [],
   "source": [
    "from pulp import *"
   ]
  },
  {
   "cell_type": "code",
   "execution_count": 2,
   "metadata": {},
   "outputs": [
    {
     "name": "stderr",
     "output_type": "stream",
     "text": [
      "/usr/local/lib/python3.7/site-packages/pulp/pulp.py:1137: UserWarning: Spaces are not permitted in the name. Converted to '_'\n",
      "  warnings.warn(\"Spaces are not permitted in the name. Converted to '_'\")\n"
     ]
    },
    {
     "data": {
      "text/plain": [
       "Nirmal_Chairs_Ltd:\n",
       "MAXIMIZE\n",
       "20*x1 + 30*x2 + 0\n",
       "SUBJECT TO\n",
       "_C1: x1 + 2 x2 <= 100\n",
       "\n",
       "_C2: 2 x1 + x2 <= 100\n",
       "\n",
       "VARIABLES\n",
       "x1 Continuous\n",
       "x2 Continuous"
      ]
     },
     "execution_count": 2,
     "metadata": {},
     "output_type": "execute_result"
    }
   ],
   "source": [
    "prob = LpProblem(\"Nirmal Chairs Ltd\", LpMaximize) ## Create a LP Maximization Problem\n",
    "x1 = LpVariable(\"x1\", lowBound = 0) ## Create variable x1 >= 0\n",
    "x2 = LpVariable(\"x2\", lowBound = 0) ## Create Variable x2 >= 0\n",
    "\n",
    "prob += 20*x1 + 30*x2 ## Objective function\n",
    "prob += 1*x1 + 2*x2 <= 100 ## Constraint 1 : Finishing hours less than 100\n",
    "prob += 2*x1 + 1*x2 <= 100 ## Constraint 2 : Carpentry hours less than 100\n",
    "prob # Display the problem"
   ]
  },
  {
   "cell_type": "code",
   "execution_count": 3,
   "metadata": {},
   "outputs": [
    {
     "data": {
      "text/plain": [
       "'Optimal'"
      ]
     },
     "execution_count": 3,
     "metadata": {},
     "output_type": "execute_result"
    }
   ],
   "source": [
    "status = prob.solve()\n",
    "LpStatus[status]"
   ]
  },
  {
   "cell_type": "code",
   "execution_count": 5,
   "metadata": {},
   "outputs": [
    {
     "name": "stdout",
     "output_type": "stream",
     "text": [
      "33.333333 33.333333 1666.6666500000001\n"
     ]
    }
   ],
   "source": [
    "print(value(x1), value(x2), value(prob.objective))"
   ]
  },
  {
   "cell_type": "code",
   "execution_count": 6,
   "metadata": {},
   "outputs": [],
   "source": [
    "## Since the result is float and cant make 33.3 chairs and 33.3 tables."
   ]
  },
  {
   "cell_type": "markdown",
   "metadata": {},
   "source": [
    "# INTEGER LINEAR PROGRAMMING"
   ]
  },
  {
   "cell_type": "code",
   "execution_count": 7,
   "metadata": {},
   "outputs": [
    {
     "data": {
      "text/plain": [
       "Nirmal_Chairs_Ltd:\n",
       "MAXIMIZE\n",
       "20*x1 + 30*x2 + 0\n",
       "SUBJECT TO\n",
       "_C1: x1 + 2 x2 <= 100\n",
       "\n",
       "_C2: 2 x1 + x2 <= 100\n",
       "\n",
       "VARIABLES\n",
       "0 <= x1 Integer\n",
       "0 <= x2 Integer"
      ]
     },
     "execution_count": 7,
     "metadata": {},
     "output_type": "execute_result"
    }
   ],
   "source": [
    "prob = LpProblem(\"Nirmal Chairs Ltd\", LpMaximize)\n",
    "x1 = LpVariable(\"x1\", lowBound = 0, cat = 'Integer') ##cat = 'Integer' will give the integer output\n",
    "x2 = LpVariable(\"x2\", lowBound = 0, cat = 'Integer')\n",
    "\n",
    "prob += 20*x1 + 30*x2\n",
    "prob += 1*x1 + 2*x2 <= 100\n",
    "prob += 2*x1 + 1*x2 <= 100\n",
    "prob"
   ]
  },
  {
   "cell_type": "code",
   "execution_count": 8,
   "metadata": {},
   "outputs": [
    {
     "data": {
      "text/plain": [
       "'Optimal'"
      ]
     },
     "execution_count": 8,
     "metadata": {},
     "output_type": "execute_result"
    }
   ],
   "source": [
    "status = prob.solve()\n",
    "LpStatus[status]"
   ]
  },
  {
   "cell_type": "code",
   "execution_count": 9,
   "metadata": {},
   "outputs": [
    {
     "name": "stdout",
     "output_type": "stream",
     "text": [
      "32.0 34.0 1660.0\n"
     ]
    }
   ],
   "source": [
    "print(value(x1), value(x2), value(prob.objective))"
   ]
  },
  {
   "cell_type": "code",
   "execution_count": null,
   "metadata": {},
   "outputs": [],
   "source": []
  }
 ],
 "metadata": {
  "kernelspec": {
   "display_name": "Python 3",
   "language": "python",
   "name": "python3"
  },
  "language_info": {
   "codemirror_mode": {
    "name": "ipython",
    "version": 3
   },
   "file_extension": ".py",
   "mimetype": "text/x-python",
   "name": "python",
   "nbconvert_exporter": "python",
   "pygments_lexer": "ipython3",
   "version": "3.7.6"
  }
 },
 "nbformat": 4,
 "nbformat_minor": 4
}
